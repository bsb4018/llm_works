{
  "cells": [
    {
      "cell_type": "code",
      "execution_count": null,
      "metadata": {
        "colab": {
          "base_uri": "https://localhost:8080/"
        },
        "id": "LNoTP56OxHgr",
        "outputId": "f76e1855-2dbf-42f3-e217-2165e672e3da"
      },
      "outputs": [],
      "source": [
        "!pip install -q langchain==0.0.208 openai python-dotenv pypdf"
      ]
    },
    {
      "cell_type": "code",
      "execution_count": null,
      "metadata": {},
      "outputs": [],
      "source": [
        "import os\n",
        "import warnings\n",
        "warnings.filterwarnings(\"ignore\")\n",
        "\n",
        "from dotenv import load_dotenv\n",
        "load_dotenv(\"D:/work4/activeloop_LLM/.env\")"
      ]
    },
    {
      "cell_type": "code",
      "execution_count": null,
      "metadata": {
        "colab": {
          "base_uri": "https://localhost:8080/"
        },
        "id": "B9hBmX2axisi",
        "outputId": "50e5f3ed-635b-4b88-f88c-7409d75050b8"
      },
      "outputs": [],
      "source": [
        "from langchain.chat_models import ChatOpenAI\n",
        "from langchain.prompts.chat import (\n",
        "    ChatPromptTemplate,\n",
        "    SystemMessagePromptTemplate,\n",
        "    HumanMessagePromptTemplate,\n",
        ")\n",
        "\n",
        "chat = ChatOpenAI(model_name=\"gpt-3.5-turbo\", temperature=0)\n",
        "\n",
        "template = \"You are an assistant that helps users find information about movies.\"\n",
        "system_message_prompt = SystemMessagePromptTemplate.from_template(template)\n",
        "human_template = \"Find information about the movie {movie_title}.\"\n",
        "human_message_prompt = HumanMessagePromptTemplate.from_template(human_template)\n",
        "\n",
        "chat_prompt = ChatPromptTemplate.from_messages([system_message_prompt, human_message_prompt])\n",
        "\n",
        "response = chat(chat_prompt.format_prompt(movie_title=\"Inception\").to_messages())\n",
        "\n",
        "print(response.content)"
      ]
    },
    {
      "cell_type": "markdown",
      "metadata": {
        "id": "ct6UVdwoycvq"
      },
      "source": [
        "# ===="
      ]
    },
    {
      "cell_type": "code",
      "execution_count": null,
      "metadata": {
        "id": "8Aq0Gw1Ux5E5"
      },
      "outputs": [],
      "source": [
        "# Import necessary modules\n",
        "from langchain import OpenAI, PromptTemplate\n",
        "from langchain.chains.summarize import load_summarize_chain\n",
        "from langchain.document_loaders import PyPDFLoader"
      ]
    },
    {
      "cell_type": "code",
      "execution_count": null,
      "metadata": {
        "id": "yUPse02KydnP"
      },
      "outputs": [],
      "source": [
        "# Initialize language model\n",
        "llm = OpenAI(model_name=\"text-davinci-003\", temperature=0)"
      ]
    },
    {
      "cell_type": "code",
      "execution_count": null,
      "metadata": {
        "id": "CFNqeufiyj7a"
      },
      "outputs": [],
      "source": [
        "# Load the summarization chain\n",
        "summarize_chain = load_summarize_chain(llm)"
      ]
    },
    {
      "cell_type": "markdown",
      "metadata": {
        "id": "HWZchXOizjCq"
      },
      "source": [
        "Download file from: https://www.cheat-sheets.org/saved-copy/The%20One%20Page%20Linux%20Manual.pdf"
      ]
    },
    {
      "cell_type": "code",
      "execution_count": null,
      "metadata": {
        "id": "cC4g9vFgyqSa"
      },
      "outputs": [],
      "source": [
        "# Load the document using PyPDFLoader\n",
        "document_loader = PyPDFLoader(file_path=\"./pdf.pdf\")\n",
        "document = document_loader.load()"
      ]
    },
    {
      "cell_type": "code",
      "execution_count": null,
      "metadata": {
        "id": "fauNaJMbytqk"
      },
      "outputs": [],
      "source": [
        "# Summarize the document\n",
        "summary = summarize_chain(document)"
      ]
    },
    {
      "cell_type": "code",
      "execution_count": null,
      "metadata": {
        "colab": {
          "base_uri": "https://localhost:8080/"
        },
        "id": "DUvzQ37JzP6e",
        "outputId": "a52cb568-4bf3-4935-b5b7-22759cb0adad"
      },
      "outputs": [],
      "source": [
        "print(summary['output_text'])"
      ]
    },
    {
      "cell_type": "markdown",
      "metadata": {
        "id": "5s7rtCx7zlo4"
      },
      "source": [
        "# ====="
      ]
    },
    {
      "cell_type": "code",
      "execution_count": null,
      "metadata": {
        "id": "2XTRA4IgzmIN"
      },
      "outputs": [],
      "source": [
        "from langchain.prompts import PromptTemplate\n",
        "from langchain.chains import LLMChain\n",
        "from langchain.llms import OpenAI\n",
        "\n",
        "prompt = PromptTemplate(template=\"Question: {question}\\nAnswer:\", input_variables=[\"question\"])\n",
        "\n",
        "llm = OpenAI(model_name=\"text-davinci-003\", temperature=0)\n",
        "chain = LLMChain(llm=llm, prompt=prompt)"
      ]
    },
    {
      "cell_type": "code",
      "execution_count": null,
      "metadata": {
        "colab": {
          "base_uri": "https://localhost:8080/",
          "height": 71
        },
        "id": "IX0AbaAT1CpO",
        "outputId": "161e964a-fce2-4a26-e31e-2a093ac7a01b"
      },
      "outputs": [],
      "source": [
        "chain.run(\"what is the meaning of life?\")"
      ]
    },
    {
      "cell_type": "code",
      "execution_count": null,
      "metadata": {
        "id": "ib-dU07u1EL_"
      },
      "outputs": [],
      "source": []
    }
  ],
  "metadata": {
    "colab": {
      "provenance": []
    },
    "kernelspec": {
      "display_name": "Python 3",
      "name": "python3"
    },
    "language_info": {
      "name": "python"
    }
  },
  "nbformat": 4,
  "nbformat_minor": 0
}
